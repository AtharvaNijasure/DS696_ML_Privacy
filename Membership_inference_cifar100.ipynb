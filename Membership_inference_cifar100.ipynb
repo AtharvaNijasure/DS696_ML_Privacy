{
  "cells": [
    {
      "cell_type": "markdown",
      "metadata": {
        "id": "1eiwVljWpzM7"
      },
      "source": [
        "Copyright 2020 The TensorFlow Authors.\n"
      ]
    },
    {
      "cell_type": "code",
      "execution_count": null,
      "metadata": {
        "id": "4rmwPgXeptiS"
      },
      "outputs": [],
      "source": [
        "#@title Licensed under the Apache License, Version 2.0 (the \"License\");\n",
        "# you may not use this file except in compliance with the License.\n",
        "# You may obtain a copy of the License at\n",
        "#\n",
        "# https://www.apache.org/licenses/LICENSE-2.0\n",
        "#\n",
        "# Unless required by applicable law or agreed to in writing, software\n",
        "# distributed under the License is distributed on an \"AS IS\" BASIS,\n",
        "# WITHOUT WARRANTIES OR CONDITIONS OF ANY KIND, either express or implied.\n",
        "# See the License for the specific language governing permissions and\n",
        "# limitations under the License."
      ]
    },
    {
      "cell_type": "markdown",
      "metadata": {
        "id": "YM2gRaJMqvMi"
      },
      "source": [
        "# Assess privacy risks with TensorFlow Privacy Membership Inference Attacks"
      ]
    },
    {
      "cell_type": "markdown",
      "metadata": {
        "id": "-B5ZvlSqqLaR"
      },
      "source": [
        "<table class=\"tfo-notebook-buttons\" align=\"left\">\n",
        "  <td>\n",
        "    <a target=\"_blank\" href=\"https://colab.research.google.com/github/tensorflow/privacy/blob/master/tensorflow_privacy/privacy/privacy_tests/membership_inference_attack/codelabs/codelab.ipynb\"><img src=\"https://www.tensorflow.org/images/colab_logo_32px.png\" />Run in Google Colab</a>\n",
        "  </td>\n",
        "  <td>\n",
        "    <a target=\"_blank\" href=\"https://github.com/tensorflow/privacy/blob/master/tensorflow_privacy/privacy/privacy_tests/membership_inference_attack/codelabs/codelab.ipynb\"><img src=\"https://www.tensorflow.org/images/GitHub-Mark-32px.png\" />View source on GitHub</a>\n",
        "  </td>\n",
        "</table>"
      ]
    },
    {
      "cell_type": "markdown",
      "metadata": {
        "id": "9rMuytY7Nn8P"
      },
      "source": [
        "##Overview\n",
        "In this codelab we'll train a simple image classification model on the CIFAR10 dataset, and then use the \"membership inference attack\" against this model to assess if the attacker is able to \"guess\" whether a particular sample was present in the training set."
      ]
    },
    {
      "cell_type": "markdown",
      "metadata": {
        "id": "FUWqArj_q8vs"
      },
      "source": [
        "## Setup\n",
        "First, set this notebook's runtime to use a GPU, under Runtime > Change runtime type > Hardware accelerator. Then, begin importing the necessary libraries."
      ]
    },
    {
      "cell_type": "code",
      "execution_count": null,
      "metadata": {
        "id": "Lr1pwHcbralz"
      },
      "outputs": [],
      "source": [
        "#@title Import statements.\n",
        "import numpy as np\n",
        "from typing import Tuple, Text\n",
        "from scipy import special\n",
        "\n",
        "import tensorflow as tf\n",
        "from tensorflow import keras\n",
        "from keras import layers\n",
        "import tensorflow_datasets as tfds\n",
        "\n",
        "# Set verbosity.\n",
        "tf.compat.v1.logging.set_verbosity(tf.compat.v1.logging.ERROR)\n",
        "from warnings import simplefilter\n",
        "from sklearn.exceptions import ConvergenceWarning\n",
        "simplefilter(action=\"ignore\", category=ConvergenceWarning)\n",
        "simplefilter(action=\"ignore\", category=FutureWarning)"
      ]
    },
    {
      "cell_type": "markdown",
      "metadata": {
        "id": "ucw81ar6ru-6"
      },
      "source": [
        "### Install TensorFlow Privacy."
      ]
    },
    {
      "cell_type": "code",
      "execution_count": null,
      "metadata": {
        "cellView": "both",
        "id": "zcqAmiGH90kl",
        "colab": {
          "base_uri": "https://localhost:8080/"
        },
        "outputId": "4f043927-065b-4d56-d1ca-c9be93dbaa31"
      },
      "outputs": [
        {
          "output_type": "stream",
          "name": "stdout",
          "text": [
            "Looking in indexes: https://pypi.org/simple, https://us-python.pkg.dev/colab-wheels/public/simple/\n",
            "Collecting git+https://github.com/tensorflow/privacy\n",
            "  Cloning https://github.com/tensorflow/privacy to /tmp/pip-req-build-5f3qghz4\n",
            "  Running command git clone --filter=blob:none --quiet https://github.com/tensorflow/privacy /tmp/pip-req-build-5f3qghz4\n",
            "  Resolved https://github.com/tensorflow/privacy to commit a3e8a45559bade7841d4454cee267adf5894ea09\n",
            "  Preparing metadata (setup.py) ... \u001b[?25l\u001b[?25hdone\n",
            "Requirement already satisfied: absl-py==1.*,>=1.0 in /usr/local/lib/python3.8/dist-packages (from tensorflow-privacy==0.8.7) (1.0.0)\n",
            "Requirement already satisfied: attrs~=21.4 in /usr/local/lib/python3.8/dist-packages (from tensorflow-privacy==0.8.7) (21.4.0)\n",
            "Requirement already satisfied: dm-tree==0.1.7 in /usr/local/lib/python3.8/dist-packages (from tensorflow-privacy==0.8.7) (0.1.7)\n",
            "Requirement already satisfied: dp-accounting==0.3.0 in /usr/local/lib/python3.8/dist-packages (from tensorflow-privacy==0.8.7) (0.3.0)\n",
            "Requirement already satisfied: immutabledict~=2.2 in /usr/local/lib/python3.8/dist-packages (from tensorflow-privacy==0.8.7) (2.2.3)\n",
            "Requirement already satisfied: matplotlib~=3.3 in /usr/local/lib/python3.8/dist-packages (from tensorflow-privacy==0.8.7) (3.5.3)\n",
            "Requirement already satisfied: numpy~=1.21 in /usr/local/lib/python3.8/dist-packages (from tensorflow-privacy==0.8.7) (1.22.4)\n",
            "Requirement already satisfied: packaging~=22.0 in /usr/local/lib/python3.8/dist-packages (from tensorflow-privacy==0.8.7) (22.0)\n",
            "Requirement already satisfied: pandas~=1.4 in /usr/local/lib/python3.8/dist-packages (from tensorflow-privacy==0.8.7) (1.5.3)\n",
            "Requirement already satisfied: parameterized~=0.8 in /usr/local/lib/python3.8/dist-packages (from tensorflow-privacy==0.8.7) (0.8.1)\n",
            "Requirement already satisfied: scikit-learn==1.*,>=1.0 in /usr/local/lib/python3.8/dist-packages (from tensorflow-privacy==0.8.7) (1.0.2)\n",
            "Requirement already satisfied: scipy~=1.7 in /usr/local/lib/python3.8/dist-packages (from tensorflow-privacy==0.8.7) (1.7.3)\n",
            "Requirement already satisfied: statsmodels~=0.13 in /usr/local/lib/python3.8/dist-packages (from tensorflow-privacy==0.8.7) (0.13.5)\n",
            "Requirement already satisfied: tensorflow-datasets~=4.5 in /usr/local/lib/python3.8/dist-packages (from tensorflow-privacy==0.8.7) (4.8.2)\n",
            "Requirement already satisfied: tensorflow-estimator~=2.4 in /usr/local/lib/python3.8/dist-packages (from tensorflow-privacy==0.8.7) (2.11.0)\n",
            "Requirement already satisfied: tensorflow-probability==0.15.0 in /usr/local/lib/python3.8/dist-packages (from tensorflow-privacy==0.8.7) (0.15.0)\n",
            "Requirement already satisfied: tensorflow~=2.4 in /usr/local/lib/python3.8/dist-packages (from tensorflow-privacy==0.8.7) (2.11.0)\n",
            "Requirement already satisfied: six in /usr/local/lib/python3.8/dist-packages (from absl-py==1.*,>=1.0->tensorflow-privacy==0.8.7) (1.15.0)\n",
            "Requirement already satisfied: mpmath~=1.2.1 in /usr/local/lib/python3.8/dist-packages (from dp-accounting==0.3.0->tensorflow-privacy==0.8.7) (1.2.1)\n",
            "Requirement already satisfied: threadpoolctl>=2.0.0 in /usr/local/lib/python3.8/dist-packages (from scikit-learn==1.*,>=1.0->tensorflow-privacy==0.8.7) (3.1.0)\n",
            "Requirement already satisfied: joblib>=0.11 in /usr/local/lib/python3.8/dist-packages (from scikit-learn==1.*,>=1.0->tensorflow-privacy==0.8.7) (1.2.0)\n",
            "Requirement already satisfied: decorator in /usr/local/lib/python3.8/dist-packages (from tensorflow-probability==0.15.0->tensorflow-privacy==0.8.7) (4.4.2)\n",
            "Requirement already satisfied: cloudpickle>=1.3 in /usr/local/lib/python3.8/dist-packages (from tensorflow-probability==0.15.0->tensorflow-privacy==0.8.7) (2.2.1)\n",
            "Requirement already satisfied: gast>=0.3.2 in /usr/local/lib/python3.8/dist-packages (from tensorflow-probability==0.15.0->tensorflow-privacy==0.8.7) (0.4.0)\n",
            "Requirement already satisfied: pillow>=6.2.0 in /usr/local/lib/python3.8/dist-packages (from matplotlib~=3.3->tensorflow-privacy==0.8.7) (8.4.0)\n",
            "Requirement already satisfied: fonttools>=4.22.0 in /usr/local/lib/python3.8/dist-packages (from matplotlib~=3.3->tensorflow-privacy==0.8.7) (4.38.0)\n",
            "Requirement already satisfied: cycler>=0.10 in /usr/local/lib/python3.8/dist-packages (from matplotlib~=3.3->tensorflow-privacy==0.8.7) (0.11.0)\n",
            "Requirement already satisfied: python-dateutil>=2.7 in /usr/local/lib/python3.8/dist-packages (from matplotlib~=3.3->tensorflow-privacy==0.8.7) (2.8.2)\n",
            "Requirement already satisfied: pyparsing>=2.2.1 in /usr/local/lib/python3.8/dist-packages (from matplotlib~=3.3->tensorflow-privacy==0.8.7) (3.0.9)\n",
            "Requirement already satisfied: kiwisolver>=1.0.1 in /usr/local/lib/python3.8/dist-packages (from matplotlib~=3.3->tensorflow-privacy==0.8.7) (1.4.4)\n",
            "Requirement already satisfied: pytz>=2020.1 in /usr/local/lib/python3.8/dist-packages (from pandas~=1.4->tensorflow-privacy==0.8.7) (2022.7.1)\n",
            "Requirement already satisfied: patsy>=0.5.2 in /usr/local/lib/python3.8/dist-packages (from statsmodels~=0.13->tensorflow-privacy==0.8.7) (0.5.3)\n",
            "Requirement already satisfied: h5py>=2.9.0 in /usr/local/lib/python3.8/dist-packages (from tensorflow~=2.4->tensorflow-privacy==0.8.7) (3.1.0)\n",
            "Requirement already satisfied: google-pasta>=0.1.1 in /usr/local/lib/python3.8/dist-packages (from tensorflow~=2.4->tensorflow-privacy==0.8.7) (0.2.0)\n",
            "Requirement already satisfied: termcolor>=1.1.0 in /usr/local/lib/python3.8/dist-packages (from tensorflow~=2.4->tensorflow-privacy==0.8.7) (2.2.0)\n",
            "Requirement already satisfied: setuptools in /usr/local/lib/python3.8/dist-packages (from tensorflow~=2.4->tensorflow-privacy==0.8.7) (57.4.0)\n",
            "Requirement already satisfied: opt-einsum>=2.3.2 in /usr/local/lib/python3.8/dist-packages (from tensorflow~=2.4->tensorflow-privacy==0.8.7) (3.3.0)\n",
            "Requirement already satisfied: typing-extensions>=3.6.6 in /usr/local/lib/python3.8/dist-packages (from tensorflow~=2.4->tensorflow-privacy==0.8.7) (4.5.0)\n",
            "Requirement already satisfied: grpcio<2.0,>=1.24.3 in /usr/local/lib/python3.8/dist-packages (from tensorflow~=2.4->tensorflow-privacy==0.8.7) (1.51.3)\n",
            "Requirement already satisfied: keras<2.12,>=2.11.0 in /usr/local/lib/python3.8/dist-packages (from tensorflow~=2.4->tensorflow-privacy==0.8.7) (2.11.0)\n",
            "Requirement already satisfied: flatbuffers>=2.0 in /usr/local/lib/python3.8/dist-packages (from tensorflow~=2.4->tensorflow-privacy==0.8.7) (23.1.21)\n",
            "Requirement already satisfied: astunparse>=1.6.0 in /usr/local/lib/python3.8/dist-packages (from tensorflow~=2.4->tensorflow-privacy==0.8.7) (1.6.3)\n",
            "Requirement already satisfied: wrapt>=1.11.0 in /usr/local/lib/python3.8/dist-packages (from tensorflow~=2.4->tensorflow-privacy==0.8.7) (1.14.1)\n",
            "Requirement already satisfied: protobuf<3.20,>=3.9.2 in /usr/local/lib/python3.8/dist-packages (from tensorflow~=2.4->tensorflow-privacy==0.8.7) (3.19.6)\n",
            "Requirement already satisfied: tensorflow-io-gcs-filesystem>=0.23.1 in /usr/local/lib/python3.8/dist-packages (from tensorflow~=2.4->tensorflow-privacy==0.8.7) (0.30.0)\n",
            "Requirement already satisfied: libclang>=13.0.0 in /usr/local/lib/python3.8/dist-packages (from tensorflow~=2.4->tensorflow-privacy==0.8.7) (15.0.6.1)\n",
            "Requirement already satisfied: tensorboard<2.12,>=2.11 in /usr/local/lib/python3.8/dist-packages (from tensorflow~=2.4->tensorflow-privacy==0.8.7) (2.11.2)\n",
            "Requirement already satisfied: etils[enp,epath]>=0.9.0 in /usr/local/lib/python3.8/dist-packages (from tensorflow-datasets~=4.5->tensorflow-privacy==0.8.7) (1.0.0)\n",
            "Requirement already satisfied: toml in /usr/local/lib/python3.8/dist-packages (from tensorflow-datasets~=4.5->tensorflow-privacy==0.8.7) (0.10.2)\n",
            "Requirement already satisfied: requests>=2.19.0 in /usr/local/lib/python3.8/dist-packages (from tensorflow-datasets~=4.5->tensorflow-privacy==0.8.7) (2.25.1)\n",
            "Requirement already satisfied: importlib-resources in /usr/local/lib/python3.8/dist-packages (from tensorflow-datasets~=4.5->tensorflow-privacy==0.8.7) (5.12.0)\n",
            "Requirement already satisfied: tensorflow-metadata in /usr/local/lib/python3.8/dist-packages (from tensorflow-datasets~=4.5->tensorflow-privacy==0.8.7) (1.12.0)\n",
            "Requirement already satisfied: promise in /usr/local/lib/python3.8/dist-packages (from tensorflow-datasets~=4.5->tensorflow-privacy==0.8.7) (2.3)\n",
            "Requirement already satisfied: tqdm in /usr/local/lib/python3.8/dist-packages (from tensorflow-datasets~=4.5->tensorflow-privacy==0.8.7) (4.64.1)\n",
            "Requirement already satisfied: click in /usr/local/lib/python3.8/dist-packages (from tensorflow-datasets~=4.5->tensorflow-privacy==0.8.7) (7.1.2)\n",
            "Requirement already satisfied: dill in /usr/local/lib/python3.8/dist-packages (from tensorflow-datasets~=4.5->tensorflow-privacy==0.8.7) (0.3.6)\n",
            "Requirement already satisfied: psutil in /usr/local/lib/python3.8/dist-packages (from tensorflow-datasets~=4.5->tensorflow-privacy==0.8.7) (5.4.8)\n",
            "Requirement already satisfied: wheel<1.0,>=0.23.0 in /usr/local/lib/python3.8/dist-packages (from astunparse>=1.6.0->tensorflow~=2.4->tensorflow-privacy==0.8.7) (0.38.4)\n",
            "Requirement already satisfied: zipp in /usr/local/lib/python3.8/dist-packages (from etils[enp,epath]>=0.9.0->tensorflow-datasets~=4.5->tensorflow-privacy==0.8.7) (3.14.0)\n",
            "Requirement already satisfied: urllib3<1.27,>=1.21.1 in /usr/local/lib/python3.8/dist-packages (from requests>=2.19.0->tensorflow-datasets~=4.5->tensorflow-privacy==0.8.7) (1.24.3)\n",
            "Requirement already satisfied: chardet<5,>=3.0.2 in /usr/local/lib/python3.8/dist-packages (from requests>=2.19.0->tensorflow-datasets~=4.5->tensorflow-privacy==0.8.7) (4.0.0)\n",
            "Requirement already satisfied: idna<3,>=2.5 in /usr/local/lib/python3.8/dist-packages (from requests>=2.19.0->tensorflow-datasets~=4.5->tensorflow-privacy==0.8.7) (2.10)\n",
            "Requirement already satisfied: certifi>=2017.4.17 in /usr/local/lib/python3.8/dist-packages (from requests>=2.19.0->tensorflow-datasets~=4.5->tensorflow-privacy==0.8.7) (2022.12.7)\n",
            "Requirement already satisfied: werkzeug>=1.0.1 in /usr/local/lib/python3.8/dist-packages (from tensorboard<2.12,>=2.11->tensorflow~=2.4->tensorflow-privacy==0.8.7) (1.0.1)\n",
            "Requirement already satisfied: tensorboard-plugin-wit>=1.6.0 in /usr/local/lib/python3.8/dist-packages (from tensorboard<2.12,>=2.11->tensorflow~=2.4->tensorflow-privacy==0.8.7) (1.8.1)\n",
            "Requirement already satisfied: tensorboard-data-server<0.7.0,>=0.6.0 in /usr/local/lib/python3.8/dist-packages (from tensorboard<2.12,>=2.11->tensorflow~=2.4->tensorflow-privacy==0.8.7) (0.6.1)\n",
            "Requirement already satisfied: google-auth<3,>=1.6.3 in /usr/local/lib/python3.8/dist-packages (from tensorboard<2.12,>=2.11->tensorflow~=2.4->tensorflow-privacy==0.8.7) (2.16.1)\n",
            "Requirement already satisfied: markdown>=2.6.8 in /usr/local/lib/python3.8/dist-packages (from tensorboard<2.12,>=2.11->tensorflow~=2.4->tensorflow-privacy==0.8.7) (3.4.1)\n",
            "Requirement already satisfied: google-auth-oauthlib<0.5,>=0.4.1 in /usr/local/lib/python3.8/dist-packages (from tensorboard<2.12,>=2.11->tensorflow~=2.4->tensorflow-privacy==0.8.7) (0.4.6)\n",
            "Requirement already satisfied: googleapis-common-protos<2,>=1.52.0 in /usr/local/lib/python3.8/dist-packages (from tensorflow-metadata->tensorflow-datasets~=4.5->tensorflow-privacy==0.8.7) (1.58.0)\n",
            "Requirement already satisfied: cachetools<6.0,>=2.0.0 in /usr/local/lib/python3.8/dist-packages (from google-auth<3,>=1.6.3->tensorboard<2.12,>=2.11->tensorflow~=2.4->tensorflow-privacy==0.8.7) (5.3.0)\n",
            "Requirement already satisfied: rsa<5,>=3.1.4 in /usr/local/lib/python3.8/dist-packages (from google-auth<3,>=1.6.3->tensorboard<2.12,>=2.11->tensorflow~=2.4->tensorflow-privacy==0.8.7) (4.9)\n",
            "Requirement already satisfied: pyasn1-modules>=0.2.1 in /usr/local/lib/python3.8/dist-packages (from google-auth<3,>=1.6.3->tensorboard<2.12,>=2.11->tensorflow~=2.4->tensorflow-privacy==0.8.7) (0.2.8)\n",
            "Requirement already satisfied: requests-oauthlib>=0.7.0 in /usr/local/lib/python3.8/dist-packages (from google-auth-oauthlib<0.5,>=0.4.1->tensorboard<2.12,>=2.11->tensorflow~=2.4->tensorflow-privacy==0.8.7) (1.3.1)\n",
            "Requirement already satisfied: importlib-metadata>=4.4 in /usr/local/lib/python3.8/dist-packages (from markdown>=2.6.8->tensorboard<2.12,>=2.11->tensorflow~=2.4->tensorflow-privacy==0.8.7) (6.0.0)\n",
            "Requirement already satisfied: pyasn1<0.5.0,>=0.4.6 in /usr/local/lib/python3.8/dist-packages (from pyasn1-modules>=0.2.1->google-auth<3,>=1.6.3->tensorboard<2.12,>=2.11->tensorflow~=2.4->tensorflow-privacy==0.8.7) (0.4.8)\n",
            "Requirement already satisfied: oauthlib>=3.0.0 in /usr/local/lib/python3.8/dist-packages (from requests-oauthlib>=0.7.0->google-auth-oauthlib<0.5,>=0.4.1->tensorboard<2.12,>=2.11->tensorflow~=2.4->tensorflow-privacy==0.8.7) (3.2.2)\n"
          ]
        }
      ],
      "source": [
        "!pip3 install git+https://github.com/tensorflow/privacy\n",
        "\n",
        "from tensorflow_privacy.privacy.privacy_tests.membership_inference_attack import membership_inference_attack as mia"
      ]
    },
    {
      "cell_type": "markdown",
      "metadata": {
        "id": "pBbcG86th_sW"
      },
      "source": [
        "## Train a model"
      ]
    },
    {
      "cell_type": "code",
      "source": [
        "cifar100 = tf.keras.datasets.cifar100\n",
        "  \n",
        "# Distribute it to train and test set\n",
        "(x_train, y_train), (x_val, y_val) = cifar100.load_data()\n",
        "print(x_train.shape, y_train.shape, x_val.shape, y_val.shape)"
      ],
      "metadata": {
        "colab": {
          "base_uri": "https://localhost:8080/"
        },
        "id": "kTe7uIuvTqy6",
        "outputId": "761517dd-b2dd-4119-a7bd-6d40b2d67b89"
      },
      "execution_count": null,
      "outputs": [
        {
          "output_type": "stream",
          "name": "stdout",
          "text": [
            "(50000, 32, 32, 3) (50000, 1) (10000, 32, 32, 3) (10000, 1)\n"
          ]
        }
      ]
    },
    {
      "cell_type": "code",
      "source": [
        "import matplotlib.pyplot as plt\n"
      ],
      "metadata": {
        "id": "XLPmvWuOW8Ym"
      },
      "execution_count": null,
      "outputs": []
    },
    {
      "cell_type": "code",
      "source": [
        "def show_samples(data, labels):\n",
        "    plt.subplots(figsize=(10, 10))\n",
        "    for i in range(12):\n",
        "        plt.subplot(3, 4, i+1)\n",
        "        k = np.random.randint(0, data.shape[0])\n",
        "        plt.title(labels[k])\n",
        "        plt.imshow(data[k])\n",
        "    plt.tight_layout()\n",
        "    plt.show()\n",
        "  \n",
        "  \n",
        "show_samples(x_train, y_train)"
      ],
      "metadata": {
        "colab": {
          "base_uri": "https://localhost:8080/",
          "height": 679
        },
        "id": "RxCwOCchTu7A",
        "outputId": "75547d76-c25f-47b5-946e-bc6fb2738e2e"
      },
      "execution_count": null,
      "outputs": [
        {
          "output_type": "display_data",
          "data": {
            "text/plain": [
              "<Figure size 720x720 with 12 Axes>"
            ],
            "image/png": "[encoded data removed]"
          },
          "metadata": {
            "needs_background": "light"
          }
        }
      ]
    },
    {
      "cell_type": "code",
      "source": [
        "y_train = tf.one_hot(y_train,\n",
        "                     depth=y_train.max() + 1,\n",
        "                     dtype=tf.float64)\n",
        "y_val = tf.one_hot(y_val,\n",
        "                   depth=y_val.max() + 1,\n",
        "                   dtype=tf.float64)\n",
        "  \n",
        "y_train = tf.squeeze(y_train)\n",
        "y_val = tf.squeeze(y_val)"
      ],
      "metadata": {
        "id": "1ZHeLbT6TvoT"
      },
      "execution_count": null,
      "outputs": []
    },
    {
      "cell_type": "code",
      "source": [
        "# print(y_train)\n",
        "# print(type(y_train))"
      ],
      "metadata": {
        "id": "dH0pzRwhZSO0"
      },
      "execution_count": null,
      "outputs": []
    },
    {
      "cell_type": "code",
      "source": [
        "model = tf.keras.models.Sequential([\n",
        "    layers.Conv2D(16, (3, 3), activation='relu',\n",
        "                  input_shape=(32, 32, 3), padding='same'),\n",
        "    layers.Conv2D(32, (3, 3),\n",
        "                  activation='relu',\n",
        "                  padding='same'),\n",
        "    layers.Conv2D(64, (3, 3),\n",
        "                  activation='relu',\n",
        "                  padding='same'),\n",
        "    layers.MaxPooling2D(2, 2),\n",
        "    layers.Conv2D(128, (3, 3),\n",
        "                  activation='relu',\n",
        "                  padding='same'),\n",
        "  \n",
        "  \n",
        "    layers.Flatten(),\n",
        "    layers.Dense(256, activation='relu'),\n",
        "    layers.BatchNormalization(),\n",
        "    layers.Dense(256, activation='relu'),\n",
        "    layers.Dropout(0.3),\n",
        "    layers.BatchNormalization(),\n",
        "    layers.Dense(100, activation='softmax')\n",
        "])\n",
        "  \n",
        "model.compile(\n",
        "    loss=tf.keras.losses.CategoricalCrossentropy(from_logits=True),\n",
        "    optimizer='adam',\n",
        "    metrics=['AUC', 'accuracy']\n",
        ")"
      ],
      "metadata": {
        "id": "dIbxFnPsTvmJ"
      },
      "execution_count": null,
      "outputs": []
    },
    {
      "cell_type": "code",
      "source": [
        "model.summary()"
      ],
      "metadata": {
        "colab": {
          "base_uri": "https://localhost:8080/"
        },
        "id": "wEIuXXz4Tvjh",
        "outputId": "01283938-4d03-4d61-e878-b13dc8b7dc9b"
      },
      "execution_count": null,
      "outputs": [
        {
          "output_type": "stream",
          "name": "stdout",
          "text": [
            "Model: \"sequential_2\"\n",
            "_________________________________________________________________\n",
            " Layer (type)                Output Shape              Param #   \n",
            "=================================================================\n",
            " conv2d_8 (Conv2D)           (None, 32, 32, 16)        448       \n",
            "                                                                 \n",
            " conv2d_9 (Conv2D)           (None, 32, 32, 32)        4640      \n",
            "                                                                 \n",
            " conv2d_10 (Conv2D)          (None, 32, 32, 64)        18496     \n",
            "                                                                 \n",
            " max_pooling2d_2 (MaxPooling  (None, 16, 16, 64)       0         \n",
            " 2D)                                                             \n",
            "                                                                 \n",
            " conv2d_11 (Conv2D)          (None, 16, 16, 128)       73856     \n",
            "                                                                 \n",
            " flatten_2 (Flatten)         (None, 32768)             0         \n",
            "                                                                 \n",
            " dense_6 (Dense)             (None, 256)               8388864   \n",
            "                                                                 \n",
            " batch_normalization_4 (Batc  (None, 256)              1024      \n",
            " hNormalization)                                                 \n",
            "                                                                 \n",
            " dense_7 (Dense)             (None, 256)               65792     \n",
            "                                                                 \n",
            " dropout_2 (Dropout)         (None, 256)               0         \n",
            "                                                                 \n",
            " batch_normalization_5 (Batc  (None, 256)              1024      \n",
            " hNormalization)                                                 \n",
            "                                                                 \n",
            " dense_8 (Dense)             (None, 100)               25700     \n",
            "                                                                 \n",
            "=================================================================\n",
            "Total params: 8,579,844\n",
            "Trainable params: 8,578,820\n",
            "Non-trainable params: 1,024\n",
            "_________________________________________________________________\n"
          ]
        }
      ]
    },
    {
      "cell_type": "code",
      "source": [],
      "metadata": {
        "id": "TnZGQZlcUAfg"
      },
      "execution_count": null,
      "outputs": []
    },
    {
      "cell_type": "code",
      "source": [
        "hist = model.fit(x_train, y_train,\n",
        "                 epochs=5,\n",
        "                 batch_size=64,\n",
        "                 verbose=1,\n",
        "                 validation_data=(x_val, y_val))"
      ],
      "metadata": {
        "colab": {
          "base_uri": "https://localhost:8080/"
        },
        "id": "HScuf8jBTvg5",
        "outputId": "be6c34f8-98f5-40d2-a11a-32fdc20b2b2f"
      },
      "execution_count": null,
      "outputs": [
        {
          "output_type": "stream",
          "name": "stdout",
          "text": [
            "Epoch 1/5\n"
          ]
        },
        {
          "output_type": "stream",
          "name": "stderr",
          "text": [
            "/usr/local/lib/python3.8/dist-packages/keras/backend.py:5534: UserWarning: \"`categorical_crossentropy` received `from_logits=True`, but the `output` argument was produced by a Softmax activation and thus does not represent logits. Was this intended?\n",
            "  output, from_logits = _get_logits(\n"
          ]
        },
        {
          "output_type": "stream",
          "name": "stdout",
          "text": [
            "782/782 [==============================] - 25s 16ms/step - loss: 3.9561 - auc: 0.7775 - accuracy: 0.1068 - val_loss: 3.5545 - val_auc: 0.8349 - val_accuracy: 0.1728\n",
            "Epoch 2/5\n",
            "782/782 [==============================] - 10s 13ms/step - loss: 3.2583 - auc: 0.8707 - accuracy: 0.2094 - val_loss: 3.0910 - val_auc: 0.8894 - val_accuracy: 0.2449\n",
            "Epoch 3/5\n",
            "782/782 [==============================] - 10s 13ms/step - loss: 2.8276 - auc: 0.9079 - accuracy: 0.2893 - val_loss: 2.6111 - val_auc: 0.9215 - val_accuracy: 0.3447\n",
            "Epoch 4/5\n",
            "782/782 [==============================] - 10s 13ms/step - loss: 2.4390 - auc: 0.9322 - accuracy: 0.3680 - val_loss: 2.5638 - val_auc: 0.9231 - val_accuracy: 0.3715\n",
            "Epoch 5/5\n",
            "782/782 [==============================] - 10s 12ms/step - loss: 2.1227 - auc: 0.9485 - accuracy: 0.4333 - val_loss: 2.5360 - val_auc: 0.9155 - val_accuracy: 0.3652\n"
          ]
        }
      ]
    },
    {
      "cell_type": "code",
      "source": [],
      "metadata": {
        "id": "-ulXrJ5RTveV"
      },
      "execution_count": null,
      "outputs": []
    },
    {
      "cell_type": "markdown",
      "metadata": {
        "id": "ee-zjGGGV1DC"
      },
      "source": [
        "## Calculate logits, probabilities and loss values for training and test sets.\n",
        "\n",
        "We will use these values later in the membership inference attack to separate training and test samples."
      ]
    },
    {
      "cell_type": "code",
      "execution_count": null,
      "metadata": {
        "cellView": "both",
        "id": "um9r0tSiPx4u",
        "colab": {
          "base_uri": "https://localhost:8080/"
        },
        "outputId": "5e7186a0-d45e-4a80-e733-a4ce6a87fadb"
      },
      "outputs": [
        {
          "output_type": "stream",
          "name": "stdout",
          "text": [
            "Predict on train...\n",
            "782/782 [==============================] - 3s 3ms/step\n",
            "Predict on test...\n",
            "157/157 [==============================] - 1s 3ms/step\n",
            "Apply softmax to get probabilities from logits...\n",
            "Compute losses...\n"
          ]
        }
      ],
      "source": [
        "print('Predict on train...')\n",
        "logits_train = model.predict(x_train, batch_size=64)\n",
        "print('Predict on test...')\n",
        "logits_test = model.predict(x_val, batch_size=64)\n",
        "\n",
        "print('Apply softmax to get probabilities from logits...')\n",
        "prob_train = special.softmax(logits_train, axis=1)\n",
        "prob_test = special.softmax(logits_test, axis=1)\n",
        "\n",
        "print('Compute losses...')\n",
        "cce = tf.keras.backend.categorical_crossentropy\n",
        "constant = tf.keras.backend.constant\n",
        "\n",
        "loss_train = cce(constant(y_train.numpy()), constant(prob_train), from_logits=False).numpy()\n",
        "loss_test = cce(constant(y_val.numpy()), constant(prob_test), from_logits=False).numpy()"
      ]
    },
    {
      "cell_type": "markdown",
      "metadata": {
        "id": "QETxVOHLiHP4"
      },
      "source": [
        "## Run membership inference attacks.\n",
        "\n",
        "We will now execute a membership inference attack against the previously trained CIFAR10 model. This will generate a number of scores, most notably, attacker advantage and AUC for the membership inference classifier.\n",
        "\n",
        "An AUC of close to 0.5 means that the attack wasn't able to identify training samples, which means that the model doesn't have privacy issues according to this test. Higher values, on the contrary, indicate potential privacy issues."
      ]
    },
    {
      "cell_type": "code",
      "execution_count": null,
      "metadata": {
        "id": "B8NIwhVwQT7I",
        "colab": {
          "base_uri": "https://localhost:8080/",
          "height": 1000
        },
        "outputId": "ede45686-9cab-4cab-a331-21e93afb838b"
      },
      "outputs": [
        {
          "output_type": "stream",
          "name": "stdout",
          "text": [
            "Best-performing attacks over all slices\n",
            "  THRESHOLD_ATTACK (with 500 training and 100 test examples) achieved an AUC of 0.72 on slice CLASS=98\n",
            "  LOGISTIC_REGRESSION (with 500 training and 100 test examples) achieved an advantage of 0.37 on slice CLASS=28\n",
            "  THRESHOLD_ATTACK (with 500 training and 100 test examples) achieved a positive predictive value of 1.00 on slice CLASS=1\n",
            "\n",
            "Best-performing attacks over slice: \"Entire dataset\"\n",
            "  LOGISTIC_REGRESSION (with 50000 training and 10000 test examples) achieved an AUC of 0.61\n",
            "  LOGISTIC_REGRESSION (with 50000 training and 10000 test examples) achieved an advantage of 0.29\n",
            "  LOGISTIC_REGRESSION (with 50000 training and 10000 test examples) achieved a positive predictive value of 0.98\n",
            "\n",
            "Best-performing attacks over slice: \"CLASS=0\"\n",
            "  LOGISTIC_REGRESSION (with 500 training and 100 test examples) achieved an AUC of 0.56\n",
            "  LOGISTIC_REGRESSION (with 500 training and 100 test examples) achieved an advantage of 0.19\n",
            "  LOGISTIC_REGRESSION (with 500 training and 100 test examples) achieved a positive predictive value of 0.98\n",
            "\n",
            "Best-performing attacks over slice: \"CLASS=1\"\n",
            "  THRESHOLD_ATTACK (with 500 training and 100 test examples) achieved an AUC of 0.61\n",
            "  LOGISTIC_REGRESSION (with 500 training and 100 test examples) achieved an advantage of 0.28\n",
            "  THRESHOLD_ATTACK (with 500 training and 100 test examples) achieved a positive predictive value of 1.00\n",
            "\n",
            "Best-performing attacks over slice: \"CLASS=2\"\n",
            "  THRESHOLD_ATTACK (with 500 training and 100 test examples) achieved an AUC of 0.60\n",
            "  THRESHOLD_ATTACK (with 500 training and 100 test examples) achieved an advantage of 0.18\n",
            "  THRESHOLD_ATTACK (with 500 training and 100 test examples) achieved a positive predictive value of 0.96\n",
            "\n",
            "Best-performing attacks over slice: \"CLASS=3\"\n",
            "  THRESHOLD_ATTACK (with 500 training and 100 test examples) achieved an AUC of 0.60\n",
            "  THRESHOLD_ATTACK (with 500 training and 100 test examples) achieved an advantage of 0.20\n",
            "  THRESHOLD_ATTACK (with 500 training and 100 test examples) achieved a positive predictive value of 1.00\n",
            "\n",
            "Best-performing attacks over slice: \"CLASS=4\"\n",
            "  THRESHOLD_ATTACK (with 500 training and 100 test examples) achieved an AUC of 0.61\n",
            "  THRESHOLD_ATTACK (with 500 training and 100 test examples) achieved an advantage of 0.19\n",
            "  THRESHOLD_ATTACK (with 500 training and 100 test examples) achieved a positive predictive value of 0.93\n",
            "\n",
            "Best-performing attacks over slice: \"CLASS=5\"\n",
            "  LOGISTIC_REGRESSION (with 500 training and 100 test examples) achieved an AUC of 0.69\n",
            "  LOGISTIC_REGRESSION (with 500 training and 100 test examples) achieved an advantage of 0.32\n",
            "  LOGISTIC_REGRESSION (with 500 training and 100 test examples) achieved a positive predictive value of 1.00\n",
            "\n",
            "Best-performing attacks over slice: \"CLASS=6\"\n",
            "  THRESHOLD_ATTACK (with 500 training and 100 test examples) achieved an AUC of 0.59\n",
            "  THRESHOLD_ATTACK (with 500 training and 100 test examples) achieved an advantage of 0.17\n",
            "  THRESHOLD_ATTACK (with 500 training and 100 test examples) achieved a positive predictive value of 0.93\n",
            "\n",
            "Best-performing attacks over slice: \"CLASS=7\"\n",
            "  LOGISTIC_REGRESSION (with 500 training and 100 test examples) achieved an AUC of 0.57\n",
            "  LOGISTIC_REGRESSION (with 500 training and 100 test examples) achieved an advantage of 0.22\n",
            "  THRESHOLD_ATTACK (with 500 training and 100 test examples) achieved a positive predictive value of 1.00\n",
            "\n",
            "Best-performing attacks over slice: \"CLASS=8\"\n",
            "  THRESHOLD_ATTACK (with 500 training and 100 test examples) achieved an AUC of 0.63\n",
            "  THRESHOLD_ATTACK (with 500 training and 100 test examples) achieved an advantage of 0.26\n",
            "  THRESHOLD_ATTACK (with 500 training and 100 test examples) achieved a positive predictive value of 1.00\n",
            "\n",
            "Best-performing attacks over slice: \"CLASS=9\"\n",
            "  THRESHOLD_ATTACK (with 500 training and 100 test examples) achieved an AUC of 0.58\n",
            "  THRESHOLD_ATTACK (with 500 training and 100 test examples) achieved an advantage of 0.19\n",
            "  LOGISTIC_REGRESSION (with 500 training and 100 test examples) achieved a positive predictive value of 1.00\n",
            "\n",
            "Best-performing attacks over slice: \"CLASS=10\"\n",
            "  THRESHOLD_ATTACK (with 500 training and 100 test examples) achieved an AUC of 0.63\n",
            "  LOGISTIC_REGRESSION (with 500 training and 100 test examples) achieved an advantage of 0.29\n",
            "  LOGISTIC_REGRESSION (with 500 training and 100 test examples) achieved a positive predictive value of 1.00\n",
            "\n",
            "Best-performing attacks over slice: \"CLASS=11\"\n",
            "  THRESHOLD_ATTACK (with 500 training and 100 test examples) achieved an AUC of 0.61\n",
            "  THRESHOLD_ATTACK (with 500 training and 100 test examples) achieved an advantage of 0.22\n",
            "  LOGISTIC_REGRESSION (with 500 training and 100 test examples) achieved a positive predictive value of 1.00\n",
            "\n",
            "Best-performing attacks over slice: \"CLASS=12\"\n",
            "  THRESHOLD_ATTACK (with 500 training and 100 test examples) achieved an AUC of 0.63\n",
            "  LOGISTIC_REGRESSION (with 500 training and 100 test examples) achieved an advantage of 0.22\n",
            "  LOGISTIC_REGRESSION (with 500 training and 100 test examples) achieved a positive predictive value of 1.00\n",
            "\n",
            "Best-performing attacks over slice: \"CLASS=13\"\n",
            "  THRESHOLD_ATTACK (with 500 training and 100 test examples) achieved an AUC of 0.65\n",
            "  LOGISTIC_REGRESSION (with 500 training and 100 test examples) achieved an advantage of 0.32\n",
            "  LOGISTIC_REGRESSION (with 500 training and 100 test examples) achieved a positive predictive value of 1.00\n",
            "\n",
            "Best-performing attacks over slice: \"CLASS=14\"\n",
            "  THRESHOLD_ATTACK (with 500 training and 100 test examples) achieved an AUC of 0.65\n",
            "  LOGISTIC_REGRESSION (with 500 training and 100 test examples) achieved an advantage of 0.26\n",
            "  THRESHOLD_ATTACK (with 500 training and 100 test examples) achieved a positive predictive value of 0.96\n",
            "\n",
            "Best-performing attacks over slice: \"CLASS=15\"\n",
            "  LOGISTIC_REGRESSION (with 500 training and 100 test examples) achieved an AUC of 0.66\n",
            "  LOGISTIC_REGRESSION (with 500 training and 100 test examples) achieved an advantage of 0.34\n",
            "  LOGISTIC_REGRESSION (with 500 training and 100 test examples) achieved a positive predictive value of 0.98\n",
            "\n",
            "Best-performing attacks over slice: \"CLASS=16\"\n",
            "  THRESHOLD_ATTACK (with 500 training and 100 test examples) achieved an AUC of 0.56\n",
            "  THRESHOLD_ATTACK (with 500 training and 100 test examples) achieved an advantage of 0.14\n",
            "  THRESHOLD_ATTACK (with 500 training and 100 test examples) achieved a positive predictive value of 1.00\n",
            "\n",
            "Best-performing attacks over slice: \"CLASS=17\"\n",
            "  THRESHOLD_ATTACK (with 500 training and 100 test examples) achieved an AUC of 0.58\n",
            "  THRESHOLD_ATTACK (with 500 training and 100 test examples) achieved an advantage of 0.15\n",
            "  THRESHOLD_ATTACK (with 500 training and 100 test examples) achieved a positive predictive value of 0.97\n",
            "\n",
            "Best-performing attacks over slice: \"CLASS=18\"\n",
            "  LOGISTIC_REGRESSION (with 500 training and 100 test examples) achieved an AUC of 0.62\n",
            "  LOGISTIC_REGRESSION (with 500 training and 100 test examples) achieved an advantage of 0.32\n",
            "  THRESHOLD_ATTACK (with 500 training and 100 test examples) achieved a positive predictive value of 1.00\n",
            "\n",
            "Best-performing attacks over slice: \"CLASS=19\"\n",
            "  THRESHOLD_ATTACK (with 500 training and 100 test examples) achieved an AUC of 0.65\n",
            "  THRESHOLD_ATTACK (with 500 training and 100 test examples) achieved an advantage of 0.26\n",
            "  THRESHOLD_ATTACK (with 500 training and 100 test examples) achieved a positive predictive value of 1.00\n",
            "\n",
            "Best-performing attacks over slice: \"CLASS=20\"\n",
            "  THRESHOLD_ATTACK (with 500 training and 100 test examples) achieved an AUC of 0.61\n",
            "  LOGISTIC_REGRESSION (with 500 training and 100 test examples) achieved an advantage of 0.30\n",
            "  THRESHOLD_ATTACK (with 500 training and 100 test examples) achieved a positive predictive value of 1.00\n",
            "\n",
            "Best-performing attacks over slice: \"CLASS=21\"\n",
            "  THRESHOLD_ATTACK (with 500 training and 100 test examples) achieved an AUC of 0.62\n",
            "  THRESHOLD_ATTACK (with 500 training and 100 test examples) achieved an advantage of 0.21\n",
            "  THRESHOLD_ATTACK (with 500 training and 100 test examples) achieved a positive predictive value of 0.95\n",
            "\n",
            "Best-performing attacks over slice: \"CLASS=22\"\n",
            "  THRESHOLD_ATTACK (with 500 training and 100 test examples) achieved an AUC of 0.62\n",
            "  THRESHOLD_ATTACK (with 500 training and 100 test examples) achieved an advantage of 0.25\n",
            "  THRESHOLD_ATTACK (with 500 training and 100 test examples) achieved a positive predictive value of 0.97\n",
            "\n",
            "Best-performing attacks over slice: \"CLASS=23\"\n",
            "  LOGISTIC_REGRESSION (with 500 training and 100 test examples) achieved an AUC of 0.58\n",
            "  LOGISTIC_REGRESSION (with 500 training and 100 test examples) achieved an advantage of 0.30\n",
            "  LOGISTIC_REGRESSION (with 500 training and 100 test examples) achieved a positive predictive value of 0.93\n",
            "\n",
            "Best-performing attacks over slice: \"CLASS=24\"\n",
            "  THRESHOLD_ATTACK (with 500 training and 100 test examples) achieved an AUC of 0.59\n",
            "  LOGISTIC_REGRESSION (with 500 training and 100 test examples) achieved an advantage of 0.28\n",
            "  LOGISTIC_REGRESSION (with 500 training and 100 test examples) achieved a positive predictive value of 1.00\n",
            "\n",
            "Best-performing attacks over slice: \"CLASS=25\"\n",
            "  THRESHOLD_ATTACK (with 500 training and 100 test examples) achieved an AUC of 0.65\n",
            "  THRESHOLD_ATTACK (with 500 training and 100 test examples) achieved an advantage of 0.30\n",
            "  LOGISTIC_REGRESSION (with 500 training and 100 test examples) achieved a positive predictive value of 1.00\n",
            "\n",
            "Best-performing attacks over slice: \"CLASS=26\"\n",
            "  LOGISTIC_REGRESSION (with 500 training and 100 test examples) achieved an AUC of 0.63\n",
            "  LOGISTIC_REGRESSION (with 500 training and 100 test examples) achieved an advantage of 0.31\n",
            "  LOGISTIC_REGRESSION (with 500 training and 100 test examples) achieved a positive predictive value of 1.00\n",
            "\n",
            "Best-performing attacks over slice: \"CLASS=27\"\n",
            "  THRESHOLD_ATTACK (with 500 training and 100 test examples) achieved an AUC of 0.62\n",
            "  THRESHOLD_ATTACK (with 500 training and 100 test examples) achieved an advantage of 0.23\n",
            "  THRESHOLD_ATTACK (with 500 training and 100 test examples) achieved a positive predictive value of 1.00\n",
            "\n",
            "Best-performing attacks over slice: \"CLASS=28\"\n",
            "  LOGISTIC_REGRESSION (with 500 training and 100 test examples) achieved an AUC of 0.63\n",
            "  LOGISTIC_REGRESSION (with 500 training and 100 test examples) achieved an advantage of 0.37\n",
            "  THRESHOLD_ATTACK (with 500 training and 100 test examples) achieved a positive predictive value of 1.00\n",
            "\n",
            "Best-performing attacks over slice: \"CLASS=29\"\n",
            "  THRESHOLD_ATTACK (with 500 training and 100 test examples) achieved an AUC of 0.64\n",
            "  LOGISTIC_REGRESSION (with 500 training and 100 test examples) achieved an advantage of 0.27\n",
            "  LOGISTIC_REGRESSION (with 500 training and 100 test examples) achieved a positive predictive value of 0.98\n",
            "\n",
            "Best-performing attacks over slice: \"CLASS=30\"\n",
            "  THRESHOLD_ATTACK (with 500 training and 100 test examples) achieved an AUC of 0.60\n",
            "  THRESHOLD_ATTACK (with 500 training and 100 test examples) achieved an advantage of 0.17\n",
            "  LOGISTIC_REGRESSION (with 500 training and 100 test examples) achieved a positive predictive value of 0.96\n",
            "\n",
            "Best-performing attacks over slice: \"CLASS=31\"\n",
            "  THRESHOLD_ATTACK (with 500 training and 100 test examples) achieved an AUC of 0.65\n",
            "  THRESHOLD_ATTACK (with 500 training and 100 test examples) achieved an advantage of 0.30\n",
            "  THRESHOLD_ATTACK (with 500 training and 100 test examples) achieved a positive predictive value of 0.93\n",
            "\n",
            "Best-performing attacks over slice: \"CLASS=32\"\n",
            "  THRESHOLD_ATTACK (with 500 training and 100 test examples) achieved an AUC of 0.58\n",
            "  LOGISTIC_REGRESSION (with 500 training and 100 test examples) achieved an advantage of 0.17\n",
            "  LOGISTIC_REGRESSION (with 500 training and 100 test examples) achieved a positive predictive value of 1.00\n",
            "\n",
            "Best-performing attacks over slice: \"CLASS=33\"\n",
            "  THRESHOLD_ATTACK (with 500 training and 100 test examples) achieved an AUC of 0.60\n",
            "  THRESHOLD_ATTACK (with 500 training and 100 test examples) achieved an advantage of 0.20\n",
            "  THRESHOLD_ATTACK (with 500 training and 100 test examples) achieved a positive predictive value of 1.00\n",
            "\n",
            "Best-performing attacks over slice: \"CLASS=34\"\n",
            "  THRESHOLD_ATTACK (with 500 training and 100 test examples) achieved an AUC of 0.57\n",
            "  THRESHOLD_ATTACK (with 500 training and 100 test examples) achieved an advantage of 0.14\n",
            "  LOGISTIC_REGRESSION (with 500 training and 100 test examples) achieved a positive predictive value of 1.00\n",
            "\n",
            "Best-performing attacks over slice: \"CLASS=35\"\n",
            "  THRESHOLD_ATTACK (with 500 training and 100 test examples) achieved an AUC of 0.65\n",
            "  THRESHOLD_ATTACK (with 500 training and 100 test examples) achieved an advantage of 0.28\n",
            "  THRESHOLD_ATTACK (with 500 training and 100 test examples) achieved a positive predictive value of 0.97\n",
            "\n",
            "Best-performing attacks over slice: \"CLASS=36\"\n",
            "  THRESHOLD_ATTACK (with 500 training and 100 test examples) achieved an AUC of 0.64\n",
            "  LOGISTIC_REGRESSION (with 500 training and 100 test examples) achieved an advantage of 0.31\n",
            "  THRESHOLD_ATTACK (with 500 training and 100 test examples) achieved a positive predictive value of 1.00\n",
            "\n",
            "Best-performing attacks over slice: \"CLASS=37\"\n",
            "  THRESHOLD_ATTACK (with 500 training and 100 test examples) achieved an AUC of 0.67\n",
            "  THRESHOLD_ATTACK (with 500 training and 100 test examples) achieved an advantage of 0.29\n",
            "  THRESHOLD_ATTACK (with 500 training and 100 test examples) achieved a positive predictive value of 1.00\n",
            "\n",
            "Best-performing attacks over slice: \"CLASS=38\"\n",
            "  LOGISTIC_REGRESSION (with 500 training and 100 test examples) achieved an AUC of 0.71\n",
            "  LOGISTIC_REGRESSION (with 500 training and 100 test examples) achieved an advantage of 0.37\n",
            "  THRESHOLD_ATTACK (with 500 training and 100 test examples) achieved a positive predictive value of 1.00\n",
            "\n",
            "Best-performing attacks over slice: \"CLASS=39\"\n",
            "  LOGISTIC_REGRESSION (with 500 training and 100 test examples) achieved an AUC of 0.64\n",
            "  LOGISTIC_REGRESSION (with 500 training and 100 test examples) achieved an advantage of 0.27\n",
            "  THRESHOLD_ATTACK (with 500 training and 100 test examples) achieved a positive predictive value of 0.98\n",
            "\n",
            "Best-performing attacks over slice: \"CLASS=40\"\n",
            "  THRESHOLD_ATTACK (with 500 training and 100 test examples) achieved an AUC of 0.64\n",
            "  LOGISTIC_REGRESSION (with 500 training and 100 test examples) achieved an advantage of 0.27\n",
            "  LOGISTIC_REGRESSION (with 500 training and 100 test examples) achieved a positive predictive value of 1.00\n",
            "\n",
            "Best-performing attacks over slice: \"CLASS=41\"\n",
            "  THRESHOLD_ATTACK (with 500 training and 100 test examples) achieved an AUC of 0.59\n",
            "  THRESHOLD_ATTACK (with 500 training and 100 test examples) achieved an advantage of 0.21\n",
            "  THRESHOLD_ATTACK (with 500 training and 100 test examples) achieved a positive predictive value of 1.00\n",
            "\n",
            "Best-performing attacks over slice: \"CLASS=42\"\n",
            "  LOGISTIC_REGRESSION (with 500 training and 100 test examples) achieved an AUC of 0.61\n",
            "  LOGISTIC_REGRESSION (with 500 training and 100 test examples) achieved an advantage of 0.22\n",
            "  LOGISTIC_REGRESSION (with 500 training and 100 test examples) achieved a positive predictive value of 1.00\n",
            "\n",
            "Best-performing attacks over slice: \"CLASS=43\"\n",
            "  THRESHOLD_ATTACK (with 500 training and 100 test examples) achieved an AUC of 0.64\n",
            "  LOGISTIC_REGRESSION (with 500 training and 100 test examples) achieved an advantage of 0.26\n",
            "  THRESHOLD_ATTACK (with 500 training and 100 test examples) achieved a positive predictive value of 1.00\n",
            "\n",
            "Best-performing attacks over slice: \"CLASS=44\"\n",
            "  THRESHOLD_ATTACK (with 500 training and 100 test examples) achieved an AUC of 0.60\n",
            "  LOGISTIC_REGRESSION (with 500 training and 100 test examples) achieved an advantage of 0.19\n",
            "  THRESHOLD_ATTACK (with 500 training and 100 test examples) achieved a positive predictive value of 0.98\n",
            "\n",
            "Best-performing attacks over slice: \"CLASS=45\"\n",
            "  THRESHOLD_ATTACK (with 500 training and 100 test examples) achieved an AUC of 0.65\n",
            "  THRESHOLD_ATTACK (with 500 training and 100 test examples) achieved an advantage of 0.25\n",
            "  THRESHOLD_ATTACK (with 500 training and 100 test examples) achieved a positive predictive value of 0.99\n",
            "\n",
            "Best-performing attacks over slice: \"CLASS=46\"\n",
            "  THRESHOLD_ATTACK (with 500 training and 100 test examples) achieved an AUC of 0.65\n",
            "  THRESHOLD_ATTACK (with 500 training and 100 test examples) achieved an advantage of 0.26\n",
            "  THRESHOLD_ATTACK (with 500 training and 100 test examples) achieved a positive predictive value of 1.00\n",
            "\n",
            "Best-performing attacks over slice: \"CLASS=47\"\n",
            "  LOGISTIC_REGRESSION (with 500 training and 100 test examples) achieved an AUC of 0.59\n",
            "  LOGISTIC_REGRESSION (with 500 training and 100 test examples) achieved an advantage of 0.30\n",
            "  THRESHOLD_ATTACK (with 500 training and 100 test examples) achieved a positive predictive value of 0.94\n",
            "\n",
            "Best-performing attacks over slice: \"CLASS=48\"\n",
            "  THRESHOLD_ATTACK (with 500 training and 100 test examples) achieved an AUC of 0.57\n",
            "  LOGISTIC_REGRESSION (with 500 training and 100 test examples) achieved an advantage of 0.21\n",
            "  LOGISTIC_REGRESSION (with 500 training and 100 test examples) achieved a positive predictive value of 1.00\n",
            "\n",
            "Best-performing attacks over slice: \"CLASS=49\"\n",
            "  THRESHOLD_ATTACK (with 500 training and 100 test examples) achieved an AUC of 0.62\n",
            "  LOGISTIC_REGRESSION (with 500 training and 100 test examples) achieved an advantage of 0.23\n",
            "  THRESHOLD_ATTACK (with 500 training and 100 test examples) achieved a positive predictive value of 1.00\n",
            "\n",
            "Best-performing attacks over slice: \"CLASS=50\"\n",
            "  THRESHOLD_ATTACK (with 500 training and 100 test examples) achieved an AUC of 0.62\n",
            "  LOGISTIC_REGRESSION (with 500 training and 100 test examples) achieved an advantage of 0.22\n",
            "  LOGISTIC_REGRESSION (with 500 training and 100 test examples) achieved a positive predictive value of 0.97\n",
            "\n",
            "Best-performing attacks over slice: \"CLASS=51\"\n",
            "  THRESHOLD_ATTACK (with 500 training and 100 test examples) achieved an AUC of 0.64\n",
            "  THRESHOLD_ATTACK (with 500 training and 100 test examples) achieved an advantage of 0.24\n",
            "  THRESHOLD_ATTACK (with 500 training and 100 test examples) achieved a positive predictive value of 1.00\n",
            "\n",
            "Best-performing attacks over slice: \"CLASS=52\"\n",
            "  THRESHOLD_ATTACK (with 500 training and 100 test examples) achieved an AUC of 0.51\n",
            "  LOGISTIC_REGRESSION (with 500 training and 100 test examples) achieved an advantage of 0.22\n",
            "  THRESHOLD_ATTACK (with 500 training and 100 test examples) achieved a positive predictive value of 0.98\n",
            "\n",
            "Best-performing attacks over slice: \"CLASS=53\"\n",
            "  THRESHOLD_ATTACK (with 500 training and 100 test examples) achieved an AUC of 0.59\n",
            "  LOGISTIC_REGRESSION (with 500 training and 100 test examples) achieved an advantage of 0.24\n",
            "  THRESHOLD_ATTACK (with 500 training and 100 test examples) achieved a positive predictive value of 1.00\n",
            "\n",
            "Best-performing attacks over slice: \"CLASS=54\"\n",
            "  THRESHOLD_ATTACK (with 500 training and 100 test examples) achieved an AUC of 0.55\n",
            "  THRESHOLD_ATTACK (with 500 training and 100 test examples) achieved an advantage of 0.15\n",
            "  LOGISTIC_REGRESSION (with 500 training and 100 test examples) achieved a positive predictive value of 0.96\n",
            "\n",
            "Best-performing attacks over slice: \"CLASS=55\"\n",
            "  THRESHOLD_ATTACK (with 500 training and 100 test examples) achieved an AUC of 0.60\n",
            "  THRESHOLD_ATTACK (with 500 training and 100 test examples) achieved an advantage of 0.16\n",
            "  LOGISTIC_REGRESSION (with 500 training and 100 test examples) achieved a positive predictive value of 0.95\n",
            "\n",
            "Best-performing attacks over slice: \"CLASS=56\"\n",
            "  THRESHOLD_ATTACK (with 500 training and 100 test examples) achieved an AUC of 0.64\n",
            "  LOGISTIC_REGRESSION (with 500 training and 100 test examples) achieved an advantage of 0.26\n",
            "  THRESHOLD_ATTACK (with 500 training and 100 test examples) achieved a positive predictive value of 1.00\n",
            "\n",
            "Best-performing attacks over slice: \"CLASS=57\"\n",
            "  THRESHOLD_ATTACK (with 500 training and 100 test examples) achieved an AUC of 0.62\n",
            "  THRESHOLD_ATTACK (with 500 training and 100 test examples) achieved an advantage of 0.25\n",
            "  THRESHOLD_ATTACK (with 500 training and 100 test examples) achieved a positive predictive value of 0.99\n",
            "\n",
            "Best-performing attacks over slice: \"CLASS=58\"\n",
            "  THRESHOLD_ATTACK (with 500 training and 100 test examples) achieved an AUC of 0.67\n",
            "  LOGISTIC_REGRESSION (with 500 training and 100 test examples) achieved an advantage of 0.26\n",
            "  THRESHOLD_ATTACK (with 500 training and 100 test examples) achieved a positive predictive value of 1.00\n",
            "\n",
            "Best-performing attacks over slice: \"CLASS=59\"\n",
            "  THRESHOLD_ATTACK (with 500 training and 100 test examples) achieved an AUC of 0.62\n",
            "  THRESHOLD_ATTACK (with 500 training and 100 test examples) achieved an advantage of 0.23\n",
            "  THRESHOLD_ATTACK (with 500 training and 100 test examples) achieved a positive predictive value of 1.00\n",
            "\n",
            "Best-performing attacks over slice: \"CLASS=60\"\n",
            "  THRESHOLD_ATTACK (with 500 training and 100 test examples) achieved an AUC of 0.53\n",
            "  LOGISTIC_REGRESSION (with 500 training and 100 test examples) achieved an advantage of 0.26\n",
            "  THRESHOLD_ATTACK (with 500 training and 100 test examples) achieved a positive predictive value of 0.98\n",
            "\n",
            "Best-performing attacks over slice: \"CLASS=61\"\n",
            "  THRESHOLD_ATTACK (with 500 training and 100 test examples) achieved an AUC of 0.61\n",
            "  LOGISTIC_REGRESSION (with 500 training and 100 test examples) achieved an advantage of 0.21\n",
            "  THRESHOLD_ATTACK (with 500 training and 100 test examples) achieved a positive predictive value of 0.96\n",
            "\n",
            "Best-performing attacks over slice: \"CLASS=62\"\n",
            "  THRESHOLD_ATTACK (with 500 training and 100 test examples) achieved an AUC of 0.60\n",
            "  LOGISTIC_REGRESSION (with 500 training and 100 test examples) achieved an advantage of 0.32\n",
            "  THRESHOLD_ATTACK (with 500 training and 100 test examples) achieved a positive predictive value of 1.00\n",
            "\n",
            "Best-performing attacks over slice: \"CLASS=63\"\n",
            "  THRESHOLD_ATTACK (with 500 training and 100 test examples) achieved an AUC of 0.61\n",
            "  THRESHOLD_ATTACK (with 500 training and 100 test examples) achieved an advantage of 0.20\n",
            "  LOGISTIC_REGRESSION (with 500 training and 100 test examples) achieved a positive predictive value of 0.99\n",
            "\n",
            "Best-performing attacks over slice: \"CLASS=64\"\n",
            "  LOGISTIC_REGRESSION (with 500 training and 100 test examples) achieved an AUC of 0.71\n",
            "  LOGISTIC_REGRESSION (with 500 training and 100 test examples) achieved an advantage of 0.35\n",
            "  LOGISTIC_REGRESSION (with 500 training and 100 test examples) achieved a positive predictive value of 1.00\n",
            "\n",
            "Best-performing attacks over slice: \"CLASS=65\"\n",
            "  THRESHOLD_ATTACK (with 500 training and 100 test examples) achieved an AUC of 0.60\n",
            "  THRESHOLD_ATTACK (with 500 training and 100 test examples) achieved an advantage of 0.20\n",
            "  THRESHOLD_ATTACK (with 500 training and 100 test examples) achieved a positive predictive value of 1.00\n",
            "\n",
            "Best-performing attacks over slice: \"CLASS=66\"\n",
            "  THRESHOLD_ATTACK (with 500 training and 100 test examples) achieved an AUC of 0.60\n",
            "  THRESHOLD_ATTACK (with 500 training and 100 test examples) achieved an advantage of 0.19\n",
            "  LOGISTIC_REGRESSION (with 500 training and 100 test examples) achieved a positive predictive value of 1.00\n",
            "\n",
            "Best-performing attacks over slice: \"CLASS=67\"\n",
            "  LOGISTIC_REGRESSION (with 500 training and 100 test examples) achieved an AUC of 0.59\n",
            "  LOGISTIC_REGRESSION (with 500 training and 100 test examples) achieved an advantage of 0.27\n",
            "  LOGISTIC_REGRESSION (with 500 training and 100 test examples) achieved a positive predictive value of 0.98\n",
            "\n",
            "Best-performing attacks over slice: \"CLASS=68\"\n",
            "  THRESHOLD_ATTACK (with 500 training and 100 test examples) achieved an AUC of 0.56\n",
            "  LOGISTIC_REGRESSION (with 500 training and 100 test examples) achieved an advantage of 0.26\n",
            "  THRESHOLD_ATTACK (with 500 training and 100 test examples) achieved a positive predictive value of 1.00\n",
            "\n",
            "Best-performing attacks over slice: \"CLASS=69\"\n",
            "  THRESHOLD_ATTACK (with 500 training and 100 test examples) achieved an AUC of 0.57\n",
            "  LOGISTIC_REGRESSION (with 500 training and 100 test examples) achieved an advantage of 0.22\n",
            "  LOGISTIC_REGRESSION (with 500 training and 100 test examples) achieved a positive predictive value of 1.00\n",
            "\n",
            "Best-performing attacks over slice: \"CLASS=70\"\n",
            "  THRESHOLD_ATTACK (with 500 training and 100 test examples) achieved an AUC of 0.54\n",
            "  LOGISTIC_REGRESSION (with 500 training and 100 test examples) achieved an advantage of 0.20\n",
            "  THRESHOLD_ATTACK (with 500 training and 100 test examples) achieved a positive predictive value of 1.00\n",
            "\n",
            "Best-performing attacks over slice: \"CLASS=71\"\n",
            "  THRESHOLD_ATTACK (with 500 training and 100 test examples) achieved an AUC of 0.54\n",
            "  LOGISTIC_REGRESSION (with 500 training and 100 test examples) achieved an advantage of 0.19\n",
            "  LOGISTIC_REGRESSION (with 500 training and 100 test examples) achieved a positive predictive value of 1.00\n",
            "\n",
            "Best-performing attacks over slice: \"CLASS=72\"\n",
            "  THRESHOLD_ATTACK (with 500 training and 100 test examples) achieved an AUC of 0.61\n",
            "  LOGISTIC_REGRESSION (with 500 training and 100 test examples) achieved an advantage of 0.27\n",
            "  LOGISTIC_REGRESSION (with 500 training and 100 test examples) achieved a positive predictive value of 1.00\n",
            "\n",
            "Best-performing attacks over slice: \"CLASS=73\"\n",
            "  THRESHOLD_ATTACK (with 500 training and 100 test examples) achieved an AUC of 0.61\n",
            "  THRESHOLD_ATTACK (with 500 training and 100 test examples) achieved an advantage of 0.18\n",
            "  THRESHOLD_ATTACK (with 500 training and 100 test examples) achieved a positive predictive value of 0.95\n",
            "\n",
            "Best-performing attacks over slice: \"CLASS=74\"\n",
            "  THRESHOLD_ATTACK (with 500 training and 100 test examples) achieved an AUC of 0.66\n",
            "  THRESHOLD_ATTACK (with 500 training and 100 test examples) achieved an advantage of 0.26\n",
            "  THRESHOLD_ATTACK (with 500 training and 100 test examples) achieved a positive predictive value of 1.00\n",
            "\n",
            "Best-performing attacks over slice: \"CLASS=75\"\n",
            "  THRESHOLD_ATTACK (with 500 training and 100 test examples) achieved an AUC of 0.62\n",
            "  THRESHOLD_ATTACK (with 500 training and 100 test examples) achieved an advantage of 0.21\n",
            "  THRESHOLD_ATTACK (with 500 training and 100 test examples) achieved a positive predictive value of 1.00\n",
            "\n",
            "Best-performing attacks over slice: \"CLASS=76\"\n",
            "  THRESHOLD_ATTACK (with 500 training and 100 test examples) achieved an AUC of 0.55\n",
            "  LOGISTIC_REGRESSION (with 500 training and 100 test examples) achieved an advantage of 0.16\n",
            "  THRESHOLD_ATTACK (with 500 training and 100 test examples) achieved a positive predictive value of 1.00\n",
            "\n",
            "Best-performing attacks over slice: \"CLASS=77\"\n",
            "  THRESHOLD_ATTACK (with 500 training and 100 test examples) achieved an AUC of 0.66\n",
            "  THRESHOLD_ATTACK (with 500 training and 100 test examples) achieved an advantage of 0.28\n",
            "  THRESHOLD_ATTACK (with 500 training and 100 test examples) achieved a positive predictive value of 0.97\n",
            "\n",
            "Best-performing attacks over slice: \"CLASS=78\"\n",
            "  THRESHOLD_ATTACK (with 500 training and 100 test examples) achieved an AUC of 0.62\n",
            "  LOGISTIC_REGRESSION (with 500 training and 100 test examples) achieved an advantage of 0.24\n",
            "  THRESHOLD_ATTACK (with 500 training and 100 test examples) achieved a positive predictive value of 0.98\n",
            "\n",
            "Best-performing attacks over slice: \"CLASS=79\"\n",
            "  THRESHOLD_ATTACK (with 500 training and 100 test examples) achieved an AUC of 0.62\n",
            "  THRESHOLD_ATTACK (with 500 training and 100 test examples) achieved an advantage of 0.22\n",
            "  LOGISTIC_REGRESSION (with 500 training and 100 test examples) achieved a positive predictive value of 0.96\n",
            "\n",
            "Best-performing attacks over slice: \"CLASS=80\"\n",
            "  THRESHOLD_ATTACK (with 500 training and 100 test examples) achieved an AUC of 0.62\n",
            "  THRESHOLD_ATTACK (with 500 training and 100 test examples) achieved an advantage of 0.21\n",
            "  THRESHOLD_ATTACK (with 500 training and 100 test examples) achieved a positive predictive value of 0.96\n",
            "\n",
            "Best-performing attacks over slice: \"CLASS=81\"\n",
            "  THRESHOLD_ATTACK (with 500 training and 100 test examples) achieved an AUC of 0.64\n",
            "  LOGISTIC_REGRESSION (with 500 training and 100 test examples) achieved an advantage of 0.28\n",
            "  THRESHOLD_ATTACK (with 500 training and 100 test examples) achieved a positive predictive value of 1.00\n",
            "\n",
            "Best-performing attacks over slice: \"CLASS=82\"\n",
            "  THRESHOLD_ATTACK (with 500 training and 100 test examples) achieved an AUC of 0.54\n",
            "  LOGISTIC_REGRESSION (with 500 training and 100 test examples) achieved an advantage of 0.21\n",
            "  LOGISTIC_REGRESSION (with 500 training and 100 test examples) achieved a positive predictive value of 1.00\n",
            "\n",
            "Best-performing attacks over slice: \"CLASS=83\"\n",
            "  THRESHOLD_ATTACK (with 500 training and 100 test examples) achieved an AUC of 0.63\n",
            "  THRESHOLD_ATTACK (with 500 training and 100 test examples) achieved an advantage of 0.25\n",
            "  LOGISTIC_REGRESSION (with 500 training and 100 test examples) achieved a positive predictive value of 1.00\n",
            "\n",
            "Best-performing attacks over slice: \"CLASS=84\"\n",
            "  THRESHOLD_ATTACK (with 500 training and 100 test examples) achieved an AUC of 0.66\n",
            "  THRESHOLD_ATTACK (with 500 training and 100 test examples) achieved an advantage of 0.29\n",
            "  THRESHOLD_ATTACK (with 500 training and 100 test examples) achieved a positive predictive value of 0.99\n",
            "\n",
            "Best-performing attacks over slice: \"CLASS=85\"\n",
            "  THRESHOLD_ATTACK (with 500 training and 100 test examples) achieved an AUC of 0.64\n",
            "  LOGISTIC_REGRESSION (with 500 training and 100 test examples) achieved an advantage of 0.29\n",
            "  THRESHOLD_ATTACK (with 500 training and 100 test examples) achieved a positive predictive value of 0.97\n",
            "\n",
            "Best-performing attacks over slice: \"CLASS=86\"\n",
            "  LOGISTIC_REGRESSION (with 500 training and 100 test examples) achieved an AUC of 0.62\n",
            "  LOGISTIC_REGRESSION (with 500 training and 100 test examples) achieved an advantage of 0.27\n",
            "  THRESHOLD_ATTACK (with 500 training and 100 test examples) achieved a positive predictive value of 1.00\n",
            "\n",
            "Best-performing attacks over slice: \"CLASS=87\"\n",
            "  THRESHOLD_ATTACK (with 500 training and 100 test examples) achieved an AUC of 0.55\n",
            "  THRESHOLD_ATTACK (with 500 training and 100 test examples) achieved an advantage of 0.16\n",
            "  THRESHOLD_ATTACK (with 500 training and 100 test examples) achieved a positive predictive value of 1.00\n",
            "\n",
            "Best-performing attacks over slice: \"CLASS=88\"\n",
            "  THRESHOLD_ATTACK (with 500 training and 100 test examples) achieved an AUC of 0.65\n",
            "  LOGISTIC_REGRESSION (with 500 training and 100 test examples) achieved an advantage of 0.28\n",
            "  THRESHOLD_ATTACK (with 500 training and 100 test examples) achieved a positive predictive value of 1.00\n",
            "\n",
            "Best-performing attacks over slice: \"CLASS=89\"\n",
            "  LOGISTIC_REGRESSION (with 500 training and 100 test examples) achieved an AUC of 0.68\n",
            "  LOGISTIC_REGRESSION (with 500 training and 100 test examples) achieved an advantage of 0.34\n",
            "  THRESHOLD_ATTACK (with 500 training and 100 test examples) achieved a positive predictive value of 1.00\n",
            "\n",
            "Best-performing attacks over slice: \"CLASS=90\"\n",
            "  THRESHOLD_ATTACK (with 500 training and 100 test examples) achieved an AUC of 0.63\n",
            "  THRESHOLD_ATTACK (with 500 training and 100 test examples) achieved an advantage of 0.26\n",
            "  THRESHOLD_ATTACK (with 500 training and 100 test examples) achieved a positive predictive value of 0.93\n",
            "\n",
            "Best-performing attacks over slice: \"CLASS=91\"\n",
            "  THRESHOLD_ATTACK (with 500 training and 100 test examples) achieved an AUC of 0.57\n",
            "  THRESHOLD_ATTACK (with 500 training and 100 test examples) achieved an advantage of 0.17\n",
            "  THRESHOLD_ATTACK (with 500 training and 100 test examples) achieved a positive predictive value of 0.97\n",
            "\n",
            "Best-performing attacks over slice: \"CLASS=92\"\n",
            "  THRESHOLD_ATTACK (with 500 training and 100 test examples) achieved an AUC of 0.65\n",
            "  THRESHOLD_ATTACK (with 500 training and 100 test examples) achieved an advantage of 0.25\n",
            "  THRESHOLD_ATTACK (with 500 training and 100 test examples) achieved a positive predictive value of 1.00\n",
            "\n",
            "Best-performing attacks over slice: \"CLASS=93\"\n",
            "  LOGISTIC_REGRESSION (with 500 training and 100 test examples) achieved an AUC of 0.68\n",
            "  LOGISTIC_REGRESSION (with 500 training and 100 test examples) achieved an advantage of 0.36\n",
            "  THRESHOLD_ATTACK (with 500 training and 100 test examples) achieved a positive predictive value of 1.00\n",
            "\n",
            "Best-performing attacks over slice: \"CLASS=94\"\n",
            "  LOGISTIC_REGRESSION (with 500 training and 100 test examples) achieved an AUC of 0.58\n",
            "  LOGISTIC_REGRESSION (with 500 training and 100 test examples) achieved an advantage of 0.28\n",
            "  LOGISTIC_REGRESSION (with 500 training and 100 test examples) achieved a positive predictive value of 0.99\n",
            "\n",
            "Best-performing attacks over slice: \"CLASS=95\"\n",
            "  THRESHOLD_ATTACK (with 500 training and 100 test examples) achieved an AUC of 0.62\n",
            "  LOGISTIC_REGRESSION (with 500 training and 100 test examples) achieved an advantage of 0.23\n",
            "  THRESHOLD_ATTACK (with 500 training and 100 test examples) achieved a positive predictive value of 1.00\n",
            "\n",
            "Best-performing attacks over slice: \"CLASS=96\"\n",
            "  LOGISTIC_REGRESSION (with 500 training and 100 test examples) achieved an AUC of 0.64\n",
            "  LOGISTIC_REGRESSION (with 500 training and 100 test examples) achieved an advantage of 0.27\n",
            "  LOGISTIC_REGRESSION (with 500 training and 100 test examples) achieved a positive predictive value of 1.00\n",
            "\n",
            "Best-performing attacks over slice: \"CLASS=97\"\n",
            "  THRESHOLD_ATTACK (with 500 training and 100 test examples) achieved an AUC of 0.66\n",
            "  LOGISTIC_REGRESSION (with 500 training and 100 test examples) achieved an advantage of 0.27\n",
            "  THRESHOLD_ATTACK (with 500 training and 100 test examples) achieved a positive predictive value of 1.00\n",
            "\n",
            "Best-performing attacks over slice: \"CLASS=98\"\n",
            "  THRESHOLD_ATTACK (with 500 training and 100 test examples) achieved an AUC of 0.72\n",
            "  THRESHOLD_ATTACK (with 500 training and 100 test examples) achieved an advantage of 0.34\n",
            "  LOGISTIC_REGRESSION (with 500 training and 100 test examples) achieved a positive predictive value of 1.00\n",
            "\n",
            "Best-performing attacks over slice: \"CLASS=99\"\n",
            "  THRESHOLD_ATTACK (with 500 training and 100 test examples) achieved an AUC of 0.60\n",
            "  THRESHOLD_ATTACK (with 500 training and 100 test examples) achieved an advantage of 0.15\n",
            "  THRESHOLD_ATTACK (with 500 training and 100 test examples) achieved a positive predictive value of 0.93\n",
            "\n",
            "Best-performing attacks over slice: \"CORRECTLY_CLASSIFIED=True\"\n",
            "  THRESHOLD_ATTACK (with 25122 training and 3652 test examples) achieved an AUC of 0.49\n",
            "  LOGISTIC_REGRESSION (with 25122 training and 3652 test examples) achieved an advantage of 0.22\n",
            "  THRESHOLD_ATTACK (with 25122 training and 3652 test examples) achieved a positive predictive value of 0.93\n",
            "\n",
            "Best-performing attacks over slice: \"CORRECTLY_CLASSIFIED=False\"\n",
            "  THRESHOLD_ATTACK (with 24878 training and 6348 test examples) achieved an AUC of 0.59\n",
            "  THRESHOLD_ATTACK (with 24878 training and 6348 test examples) achieved an advantage of 0.14\n",
            "  THRESHOLD_ATTACK (with 24878 training and 6348 test examples) achieved a positive predictive value of 0.92\n"
          ]
        },
        {
          "output_type": "display_data",
          "data": {
            "text/plain": [
              "<Figure size 432x288 with 1 Axes>"
            ],
            "image/png": "[encoded data removed]"
          },
          "metadata": {
            "needs_background": "light"
          }
        }
      ],
      "source": [
        "from tensorflow_privacy.privacy.privacy_tests.membership_inference_attack.data_structures import AttackInputData\n",
        "from tensorflow_privacy.privacy.privacy_tests.membership_inference_attack.data_structures import SlicingSpec\n",
        "from tensorflow_privacy.privacy.privacy_tests.membership_inference_attack.data_structures import AttackType\n",
        "\n",
        "import tensorflow_privacy.privacy.privacy_tests.membership_inference_attack.plotting as plotting\n",
        "\n",
        "labels_train = np.argmax(y_train, axis=1)\n",
        "labels_test = np.argmax(y_val, axis=1)\n",
        "\n",
        "input = AttackInputData(\n",
        "  logits_train = logits_train,\n",
        "  logits_test = logits_test,\n",
        "  loss_train = loss_train,\n",
        "  loss_test = loss_test,\n",
        "  labels_train = labels_train,\n",
        "  labels_test = labels_test\n",
        ")\n",
        "\n",
        "# Run several attacks for different data slices\n",
        "attacks_result = mia.run_attacks(input,\n",
        "                                 SlicingSpec(\n",
        "                                     entire_dataset = True,\n",
        "                                     by_class = True,\n",
        "                                     by_classification_correctness = True\n",
        "                                 ),\n",
        "                                 attack_types = [\n",
        "                                     AttackType.THRESHOLD_ATTACK,\n",
        "                                     AttackType.LOGISTIC_REGRESSION])\n",
        "\n",
        "# Plot the ROC curve of the best classifier\n",
        "fig = plotting.plot_roc_curve(\n",
        "    attacks_result.get_result_with_max_auc().roc_curve)\n",
        "\n",
        "# Print a user-friendly summary of the attacks\n",
        "print(attacks_result.summary(by_slices = True))"
      ]
    },
    {
      "cell_type": "markdown",
      "metadata": {
        "id": "E9zwsPGFujVq"
      },
      "source": [
        "This is the end of the codelab!\n",
        "Feel free to change the parameters to see how the privacy risks change.\n",
        "\n",
        "You can try playing with:\n",
        "* the number of training epochs\n",
        "* different attack_types"
      ]
    }
  ],
  "metadata": {
    "colab": {
      "provenance": []
    },
    "kernelspec": {
      "display_name": "Python 3",
      "language": "python",
      "name": "python3"
    },
    "language_info": {
      "codemirror_mode": {
        "name": "ipython",
        "version": 3
      },
      "file_extension": ".py",
      "mimetype": "text/x-python",
      "name": "python",
      "nbconvert_exporter": "python",
      "pygments_lexer": "ipython3",
      "version": "3.6.10"
    },
    "pycharm": {
      "stem_cell": {
        "cell_type": "raw",
        "metadata": {
          "collapsed": false
        },
        "source": []
      }
    },
    "accelerator": "GPU",
    "gpuClass": "standard"
  },
  "nbformat": 4,
  "nbformat_minor": 0
}